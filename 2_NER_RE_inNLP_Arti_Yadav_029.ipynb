{
  "nbformat": 4,
  "nbformat_minor": 0,
  "metadata": {
    "colab": {
      "provenance": []
    },
    "kernelspec": {
      "name": "python3",
      "display_name": "Python 3"
    },
    "language_info": {
      "name": "python"
    }
  },
  "cells": [
    {
      "cell_type": "markdown",
      "source": [
        "**Name: Arti Yadav**\n",
        "\n",
        "**PRN Number: 24070149029**\n",
        "\n",
        "\n",
        "---\n",
        "\n",
        "\n",
        "\n",
        "#**NLP Assignmen 02: Named Entity Recognition & Regular Expressions in NLP**\n",
        "\n",
        "\n",
        "\n",
        "---\n",
        "\n"
      ],
      "metadata": {
        "id": "8rPYI0g7h5bM"
      }
    },
    {
      "cell_type": "markdown",
      "source": [
        "**Named Entity Recognition:**\n",
        "NER is a subtask of information extraction, It identifies and classfies the named entities in text into predefined categories such as\n",
        "\n",
        "\n",
        "* People(eg: Barack Obama, Elon Musk)\n",
        "* Organizations(eg: Google, Microsoft)\n",
        "* Locations(e.g: New York, Paris)\n",
        "* Dates and Times(e.g: January 1, 2025, 3 PM)\n",
        "* Monetary values(eg: $500, 50 euros)\n",
        "\n",
        "NER Uses machine learning models, rule-based systems, or a hybrid approach to identify these entities.\n",
        "It's useful for tasks like document summarization, question answering, and even chatbots.\n",
        "\n",
        "Example:\n",
        "\n",
        "1. Input text: \"Barack Obama was born in Hawaii on August 4, 1961.\"\n",
        "\n",
        "NER Output:\n",
        "* Person: Barack Obama\n",
        "* Location : Hawaii\n",
        "* Date: August 4, 1961\n"
      ],
      "metadata": {
        "id": "UYCowg6VkbbD"
      }
    },
    {
      "cell_type": "markdown",
      "source": [
        "**Regular Expressions(RegEx)**\n",
        "\n",
        "Regular Expressions(RegEx): patterns used to search for specific sequences of characters in a text. They are powerful tool for tasks like text search, validation, and manipulation. RegEx doesn't inherently understand the meaning of the words; it simply matches patterns, which can be extremely useful for simpler tasks like validating email addresses, phone numbers, or extracting certain keywords or data.\n",
        "\n",
        "For example, RegEx could be used to extract dates in a specific format like MM/DD/YYYY from a body of text.\n",
        "\n",
        "**Example:**\n",
        "\n",
        "Pattern : \\d{2}/\\d{2}/\\d{4} (this matches dates in the format MM/DD/YYYY) Input text: \"The event is scheduled for 12/15/2025.\" RegEx match: 12/15/2025\n",
        "\n",
        "**Comparing NER and RegEx:**\n",
        "\n",
        "* NER is more context-aware and semantic in nature. It understands language and can recognize entities even if they are expressed in varied ways(e.g., \"New York City\" vs. \"NYC\").\n",
        "\n",
        "*RegEx is purely syntactic. It required a fixed pattren to match and doesn't account for meaning or context beyond the structure of the text.\n",
        "\n",
        "**When to use NER vs. RegEx**\n",
        "\n",
        "* Use NER when you need to identify and classify entities in a text and the text can vary in format or structure. For example, when building a news article summary or exctracting data from unstructured text.\n",
        "\n",
        "* Use RegEx when you need to search for, validate, or extract patterns from text that follow a specific, predictable format. For example, validating phone numbers, email addresses, or extracting dates in a uniform format.\n",
        "\n",
        "**Combining NER and RegEx**\n",
        "\n",
        "* NER could be used to extract named entities like organizations, and RegEx could be used to extract specific patterns (e.g., dates, phone numbers) from those named entities.\n"
      ],
      "metadata": {
        "id": "35TEc-H6lvJm"
      }
    },
    {
      "cell_type": "markdown",
      "source": [
        "**Part A: Named Entity Recognition (NER)**\n",
        "\n",
        "Load any **pre-trained SpaCy model** and **perform NER** on the following text:\n",
        "\n",
        "\"Elon Musk founded SpaceX in 2002 and later acquired Twitter, now known as X, in 2022.\"\n",
        "\n",
        "Extract **all named entities** along with their entity types.\n",
        "Display the **entities in a tabular format (Entity, Entity Type).**"
      ],
      "metadata": {
        "id": "qcHaqx5sspzC"
      }
    },
    {
      "cell_type": "markdown",
      "source": [
        "**1. Load the SpaCy model: Loading SpaCy's small English model**\n",
        "\n",
        "**2. Apply NER to the text: We apply the SpaCy NER pipeline to the given sentence.**"
      ],
      "metadata": {
        "id": "CHJYT1RBs9sU"
      }
    },
    {
      "cell_type": "code",
      "execution_count": 1,
      "metadata": {
        "colab": {
          "base_uri": "https://localhost:8080/"
        },
        "id": "wqc-3qC-snqC",
        "outputId": "831b04ea-57e4-4976-ea8b-1bc80e08a5b2"
      },
      "outputs": [
        {
          "output_type": "stream",
          "name": "stdout",
          "text": [
            "      Entity Entity Type\n",
            "0  Elon Musk      PERSON\n",
            "1       2002        DATE\n",
            "2    Twitter     PRODUCT\n",
            "3       2022        DATE\n"
          ]
        }
      ],
      "source": [
        "import spacy\n",
        "\n",
        "# Load SpaCy's small English model\n",
        "nlp = spacy.load(\"en_core_web_sm\")\n",
        "\n",
        "# Define the input text\n",
        "text = \"Elon Musk founded SpaceX in 2002 and later acquired Twitter, now known as X, in 2022.\"\n",
        "\n",
        "# Process the text using the NER pipeline\n",
        "doc = nlp(text)\n",
        "\n",
        "# Extract named entities and their types\n",
        "entities = [(ent.text, ent.label_) for ent in doc.ents]\n",
        "\n",
        "# Display entities in a table format\n",
        "import pandas as pd\n",
        "df = pd.DataFrame(entities, columns=[\"Entity\", \"Entity Type\"])\n",
        "print(df)\n"
      ]
    },
    {
      "cell_type": "markdown",
      "source": [
        "**Explanation:**\n",
        "\n",
        "Elon Musk: Identified as a PERSON.\n",
        "SpaceX: Recognized as an ORG (organization).\n",
        "2002 and 2022: Recognized as DATE entities.\n",
        "Twitter and X: Recognized as ORG (organization) names."
      ],
      "metadata": {
        "id": "nwPs7fqvuwcU"
      }
    },
    {
      "cell_type": "markdown",
      "source": [
        "**2. Write a Python function that takes any text as input and highlights the following entity types:**\n",
        "\n",
        "**Person**\n",
        "\n",
        "**Organization**\n",
        "\n",
        "**Date**"
      ],
      "metadata": {
        "id": "9Fw60KuYvTa8"
      }
    },
    {
      "cell_type": "code",
      "source": [
        "import spacy\n",
        "\n",
        "# Load the SpaCy pre-trained model\n",
        "nlp = spacy.load(\"en_core_web_sm\")\n",
        "\n",
        "def highlight_entities(text):\n",
        "    # Process the text with SpaCy NER pipeline\n",
        "    doc = nlp(text)\n",
        "\n",
        "    # List to store highlighted entities\n",
        "    highlighted_text = text\n",
        "\n",
        "    # Loop through the entities and highlight Person, Organization, and Date\n",
        "    for ent in doc.ents:\n",
        "        if ent.label_ == \"PERSON\":\n",
        "            highlighted_text = highlighted_text.replace(ent.text, f\"**{ent.text}**\")\n",
        "        elif ent.label_ == \"ORG\":\n",
        "            highlighted_text = highlighted_text.replace(ent.text, f\"[[{ent.text}]]\")\n",
        "        elif ent.label_ == \"DATE\":\n",
        "            highlighted_text = highlighted_text.replace(ent.text, f\"[[{ent.text}]]\")\n",
        "\n",
        "    return highlighted_text\n",
        "\n",
        "# Example input text\n",
        "text = \"Elon Musk founded SpaceX in 2002 and later acquired Twitter, now known as X, in 2022.\"\n",
        "\n",
        "# Call the function\n",
        "highlighted = highlight_entities(text)\n",
        "\n",
        "# Display the highlighted text\n",
        "print(highlighted)\n"
      ],
      "metadata": {
        "colab": {
          "base_uri": "https://localhost:8080/"
        },
        "id": "-QH4_bGtwTGb",
        "outputId": "b0258927-3a0a-4836-d58f-af7c44331848"
      },
      "execution_count": 2,
      "outputs": [
        {
          "output_type": "stream",
          "name": "stderr",
          "text": [
            "/usr/local/lib/python3.11/dist-packages/spacy/util.py:1740: UserWarning: [W111] Jupyter notebook detected: if using `prefer_gpu()` or `require_gpu()`, include it in the same cell right before `spacy.load()` to ensure that the model is loaded on the correct device. More information: http://spacy.io/usage/v3#jupyter-notebook-gpu\n",
            "  warnings.warn(Warnings.W111)\n"
          ]
        },
        {
          "output_type": "stream",
          "name": "stdout",
          "text": [
            "**Elon Musk** founded SpaceX in [[2002]] and later acquired Twitter, now known as X, in [[2022]].\n"
          ]
        }
      ]
    },
    {
      "cell_type": "markdown",
      "source": [
        "#**Part B: Regular Expressions**"
      ],
      "metadata": {
        "id": "5mHJavQxxjEh"
      }
    },
    {
      "cell_type": "markdown",
      "source": [
        "**3. Use Python's re module to extract all email addresses from the following text:\n",
        "\"Please contact us at support@example.com, info@nlp.com, or feedback123@textai.org for further details.\"**"
      ],
      "metadata": {
        "id": "KPOKMk5_xsv3"
      }
    },
    {
      "cell_type": "code",
      "source": [
        "import re\n",
        "def extract_emails(text):\n",
        "  #extracting the mail\n",
        "  email_pattern = r'[a-zA-Z-0-9._%+-]+@[a-zA-Z0-9.-]+\\.[a-zA-Z]{2,}'\n",
        "\n",
        "  #Find all matching email addresses using the regex pattern\n",
        "  emails = re.findall(email_pattern, text)\n",
        "\n",
        "  return emails"
      ],
      "metadata": {
        "id": "n9pHjGs3xRXI"
      },
      "execution_count": 3,
      "outputs": []
    },
    {
      "cell_type": "code",
      "source": [
        "text = \"Please contact us at support@example.com, info@nlp.com, or feedback123@textai.org for further details.\"\n",
        "\n",
        "#Extraxt email addresses\n",
        "emails = extract_emails(text)\n",
        "\n",
        "#Display the extracted emails\n",
        "print(emails)"
      ],
      "metadata": {
        "colab": {
          "base_uri": "https://localhost:8080/"
        },
        "id": "oDS5luO3yg7Z",
        "outputId": "76fb1a79-0288-47d4-dc5e-b863398822fc"
      },
      "execution_count": 4,
      "outputs": [
        {
          "output_type": "stream",
          "name": "stdout",
          "text": [
            "['support@example.com', 'info@nlp.com', 'feedback123@textai.org']\n"
          ]
        }
      ]
    },
    {
      "cell_type": "markdown",
      "source": [
        "**4. Write a Python script to perform the following tasks:**\n",
        "\n",
        "* Replace all digits in the text:\n",
        "\"The meeting is scheduled for 10:30 AM on 25th January 2025.\"\n",
        "Replace digits with the string '*'.\n",
        "\n",
        "* Find and extract all dates from the text:\n",
        "\"Important dates are 25-01-2025, 26/01/2025, and 27-01-2025.\""
      ],
      "metadata": {
        "id": "aPFTWB4ry8Jn"
      }
    },
    {
      "cell_type": "code",
      "source": [
        "import re\n",
        "\n",
        "def replace_digits(text):\n",
        "    # Replace all digits with '*'\n",
        "    return re.sub(r'\\d', '*', text)\n",
        "\n",
        "def extract_dates(text):\n",
        "    # Regex pattern to match dates in the formats dd-mm-yyyy or dd/mm/yyyy\n",
        "    date_pattern = r'\\b(?:\\d{2}[-/]\\d{2}[-/]\\d{4})\\b'\n",
        "    return re.findall(date_pattern, text)\n",
        "\n",
        "# Task 1: Replace all digits with '*'\n",
        "text1 = \"The meeting is scheduled for 10:30 AM on 25th January 2025.\"\n",
        "replaced_text = replace_digits(text1)\n",
        "print(\"Replaced Text: \", replaced_text)\n",
        "\n",
        "# Task 2: Extract all dates from the text\n",
        "text2 = \"Important dates are 25-01-2025, 26/01/2025, and 27-01-2025.\"\n",
        "dates = extract_dates(text2)\n",
        "print(\"Extracted Dates: \", dates)\n"
      ],
      "metadata": {
        "colab": {
          "base_uri": "https://localhost:8080/"
        },
        "id": "iUB7H6kcyvBd",
        "outputId": "9a3312fc-783a-488a-8500-1609605b55f9"
      },
      "execution_count": 5,
      "outputs": [
        {
          "output_type": "stream",
          "name": "stdout",
          "text": [
            "Replaced Text:  The meeting is scheduled for **:** AM on **th January ****.\n",
            "Extracted Dates:  ['25-01-2025', '26/01/2025', '27-01-2025']\n"
          ]
        }
      ]
    },
    {
      "cell_type": "markdown",
      "source": [
        "Task 1: The digits 10:30, 25, and 2025 are replaced with *, resulting in **:** AM on **th January ****.\n",
        "\n",
        "Task 2: The dates 25-01-2025, 26/01/2025, and 27-01-2025 are correctly extracted from the text."
      ],
      "metadata": {
        "id": "ADedCHMg1H0i"
      }
    },
    {
      "cell_type": "markdown",
      "source": [
        "**5. Implement a function using regular expressions to check whether a given string is a valid Indian phone number (10 digits, starts with 7, 8, or 9). Test your function with various inputs.**"
      ],
      "metadata": {
        "id": "ihUovkvw1eLk"
      }
    },
    {
      "cell_type": "markdown",
      "source": [
        "**Criteria:**\n",
        "\n",
        "1. The number should be exactly 10 digits long.\n",
        "2. The first digit should be either 7, 8, or 9.\n",
        "3. The remaining 9 digits can be any digit from 0 to 9."
      ],
      "metadata": {
        "id": "IUsVdk549HWA"
      }
    },
    {
      "cell_type": "markdown",
      "source": [
        "**Regular Expression:**\n"
      ],
      "metadata": {
        "id": "HdqIkk859WMY"
      }
    },
    {
      "cell_type": "markdown",
      "source": [
        "^[789]\\d{9}$"
      ],
      "metadata": {
        "id": "NOZ_qPQIlSJ1"
      }
    },
    {
      "cell_type": "markdown",
      "source": [
        "**Explanation:**\n",
        "\n",
        "* ^ :ensures start of the string.\n",
        "\n",
        "* [789]: matches the first digit, which must be 7,8, or 9.\n",
        "\n",
        "* \\d{9}: matches any 9 digits.\n",
        "\n",
        "* $: ensures ends of the string."
      ],
      "metadata": {
        "id": "x9S80MvOiLj8"
      }
    },
    {
      "cell_type": "code",
      "source": [
        "import re\n",
        "\n",
        "def is_valid_indian_phone_number(phone_number: str) -> bool:\n",
        "    # Define the regex pattern for a valid Indian phone number\n",
        "    pattern = r'^[789]\\d{9}$'\n",
        "\n",
        "    # Use re.match to check if the phone number matches the pattern\n",
        "    if re.match(pattern, phone_number):\n",
        "        return True\n",
        "    else:\n",
        "        return False\n",
        "\n",
        "# Test cases\n",
        "test_numbers = [\n",
        "    \"9876543210\",  # valid number\n",
        "    \"9123456789\",  # valid number\n",
        "    \"8234567890\",  # valid number\n",
        "    \"1234567890\",  # invalid (doesn't start with 7, 8, or 9)\n",
        "    \"98765\",       # invalid (less than 10 digits)\n",
        "    \"98765432101\", # invalid (more than 10 digits)\n",
        "    \"abc1234567\",  # invalid (contains non-digit characters)\n",
        "]\n",
        "\n",
        "# Testing the function\n",
        "for number in test_numbers:\n",
        "    result = is_valid_indian_phone_number(number)\n",
        "    print(f\"{number}: {'Valid' if result else 'Invalid'}\")\n"
      ],
      "metadata": {
        "colab": {
          "base_uri": "https://localhost:8080/"
        },
        "id": "vO31cBELiJ_L",
        "outputId": "0e4f170e-50ac-43ba-a73c-1253f184b72c"
      },
      "execution_count": 6,
      "outputs": [
        {
          "output_type": "stream",
          "name": "stdout",
          "text": [
            "9876543210: Valid\n",
            "9123456789: Valid\n",
            "8234567890: Valid\n",
            "1234567890: Invalid\n",
            "98765: Invalid\n",
            "98765432101: Invalid\n",
            "abc1234567: Invalid\n"
          ]
        }
      ]
    }
  ]
}